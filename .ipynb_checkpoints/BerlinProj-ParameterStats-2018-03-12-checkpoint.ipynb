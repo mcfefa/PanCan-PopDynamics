{
 "cells": [
  {
   "cell_type": "markdown",
   "metadata": {},
   "source": [
    "For each tri-culture system, reading in the n=100 repeated parameter estimations. Compute the average, median, and confidence intervals (parameteric and non-parameteric)."
   ]
  },
  {
   "cell_type": "markdown",
   "metadata": {},
   "source": [
    "# MEF-ACA-LC"
   ]
  },
  {
   "cell_type": "code",
   "execution_count": 1,
   "metadata": {},
   "outputs": [
    {
     "name": "stderr",
     "output_type": "stream",
     "text": [
      "WARNING: Method definition midpoints(Base.Range{T} where T) in module Base at deprecated.jl:56 overwritten in module StatsBase at /Users/mcfefa/.julia/v0.6/StatsBase/src/hist.jl:535.\n",
      "WARNING: Method definition midpoints(AbstractArray{T, 1} where T) in module Base at deprecated.jl:56 overwritten in module StatsBase at /Users/mcfefa/.julia/v0.6/StatsBase/src/hist.jl:533.\n"
     ]
    }
   ],
   "source": [
    "using Stats, DataFrames, Plots;"
   ]
  },
  {
   "cell_type": "code",
   "execution_count": 2,
   "metadata": {},
   "outputs": [],
   "source": [
    "paramMEFACALC = readdlm(\"MEF-ANA-LC-Params-R10v2_20180308.txt\");"
   ]
  },
  {
   "cell_type": "code",
   "execution_count": 3,
   "metadata": {},
   "outputs": [],
   "source": [
    "errsMEFACALC = readdlm(\"MEF-ANA-LC-Errs-R10v2_20180308.txt\");"
   ]
  },
  {
   "cell_type": "code",
   "execution_count": 4,
   "metadata": {
    "scrolled": true
   },
   "outputs": [
    {
     "name": "stdout",
     "output_type": "stream",
     "text": [
      "MEF-ACA-LC Model (from Model R10) - Statistics on Parameters \n",
      "Average error of these parameters: 0.03552073752246485\n",
      "Standard deviation of these parameters: 0.012276318153842327   \n",
      " with confidence interval of: (0.011459153940933893, 0.05958232110399581)\n",
      "\n",
      "Average Parameter Values with Parameteric Confidence Interval\n",
      "bMEF: 0.11753090615453793 (0.055962628831952244, 0.1790991834771236)\n",
      "bANA: 0.02439190774063443 (-0.022286865565906002, 0.07107068104717486)\n",
      "bLC: 0.047929525633350595 (-0.001614745124330838, 0.09747379639103203)\n",
      "a11: 4.373213849000329 (1.1881568693455722, 7.558270828655086)\n",
      "a12: 0.24636344260652826 (-1.6952228466640664, 2.187949731877123)\n",
      "a13: 0.3986599678988208 (-0.5728190169568459, 1.3701389527544876)\n",
      "a21: 1.4440332032378547 (-0.6202869623996499, 3.508353368875359)\n",
      "a22: 0.00734425192331362 (-0.08214286917732674, 0.09683137302395398)\n",
      "a23: 0.16126137628214077 (-0.9873208903776783, 1.30984364294196)\n",
      "a31: 2.6417885927045446 (0.5452659330784564, 4.738311252330632)\n",
      "a32: 0.09639113675408298 (-0.8480483939826929, 1.040830667490859)\n",
      "\n",
      "Median Parameter Values with Non-Parameteric Confidence Interval\n",
      "bMEF: 0.12392226457728125 (0.03051109177856718, 0.14957896973714532)\n",
      "bANA: 0.01678240158117252 (0.016782400000007573, 0.11160847106820741)\n",
      "bLC: 0.02908950016204167 (0.029089500000001156, 0.08331141223373452)\n",
      "a11: 4.9999998424757175 (1.0068509011717336e-9, 4.999999999450059)\n",
      "a12: 5.7726132770697954e-8 (3.5152961298882895e-10, 4.99995848314177)\n",
      "a13: 0.0006983786703615575 (1.999611193311638e-11, 1.819671879965183)\n",
      "a21: 1.2878078677330445 (4.828043016067894e-8, 4.999999999966966)\n",
      "a22: 8.89252043180784e-8 (1.12546575583534e-10, 0.4096402562321038)\n",
      "a23: 2.6293126493382107e-7 (7.887637640045232e-9, 4.980134942104421)\n",
      "a31: 2.01925032859785 (0.6510278869702313, 4.0565988539627895)\n",
      "a32: 5.786844317382278e-9 (4.914660576464004e-12, 3.6299644497140076)\n",
      "\n",
      "Average Parameter Values with Non-Parameteric Confidence Interval\n",
      "bMEF: 0.11753090615453793 (0.03051109177856718, 0.14957896973714532)\n",
      "bANA: 0.02439190774063443 (0.016782400000007573, 0.11160847106820741)\n",
      "bLC: 0.047929525633350595 (0.029089500000001156, 0.08331141223373452)\n",
      "a11: 4.373213849000329 (1.0068509011717336e-9, 4.999999999450059)\n",
      "a12: 0.24636344260652826 (3.5152961298882895e-10, 4.99995848314177)\n",
      "a13: 0.3986599678988208 (1.999611193311638e-11, 1.819671879965183)\n",
      "a21: 1.4440332032378547 (4.828043016067894e-8, 4.999999999966966)\n",
      "a22: 0.00734425192331362 (1.12546575583534e-10, 0.4096402562321038)\n",
      "a23: 0.16126137628214077 (7.887637640045232e-9, 4.980134942104421)\n",
      "a31: 2.6417885927045446 (0.6510278869702313, 4.0565988539627895)\n",
      "a32: 0.09639113675408298 (4.914660576464004e-12, 3.6299644497140076)\n"
     ]
    }
   ],
   "source": [
    "numParam = size(paramMEFACALC)[2]\n",
    "paramList = [\"bMEF\", \"bANA\", \"bLC\", \"a11\", \"a12\", \"a13\", \"a21\", \"a22\", \"a23\", \"a31\", \"a32\"]\n",
    "\n",
    "avgParamMEFACALC = zeros(numParam)\n",
    "medianParamMEFACALC = zeros(numParam)\n",
    "stdParamMEFACALC = zeros(numParam)\n",
    "\n",
    "for j = 1:numParam\n",
    "    avgParamMEFACALC[j]=mean(paramMEFACALC[:,j])\n",
    "    medianParamMEFACALC[j]=median(paramMEFACALC[:,j])\n",
    "    stdParamMEFACALC[j]=std(paramMEFACALC[:,j])\n",
    "end\n",
    "\n",
    "println(\"MEF-ACA-LC Model (from Model R10) - Statistics on Parameters \")\n",
    "println(\"Average error of these parameters: \", mean(errsMEFACALC))\n",
    "println(\"Standard deviation of these parameters: \", std(errsMEFACALC), \"   \\n with confidence interval of: (\", mean(errsMEFACALC)-1.96*std(errsMEFACALC),\", \", mean(errsMEFACALC)+1.96*std(errsMEFACALC),\")\")\n",
    "println(\"\")\n",
    "println(\"Average Parameter Values with Parameteric Confidence Interval\")\n",
    "for m = 1:numParam\n",
    "    println(paramList[m], \": \", avgParamMEFACALC[m], \" (\", avgParamMEFACALC[m]-1.96*stdParamMEFACALC[m],\", \", avgParamMEFACALC[m]+1.96*stdParamMEFACALC[m],\")\")\n",
    "end\n",
    "println(\"\")\n",
    "println(\"Median Parameter Values with Non-Parameteric Confidence Interval\")\n",
    "for k = 1:numParam\n",
    "    println(paramList[k], \": \", medianParamMEFACALC[k], \" (\", nquantile(paramMEFACALC[:,k], 39)[2],\", \", nquantile(paramMEFACALC[:,k], 39)[end],\")\")\n",
    "end\n",
    "println(\"\")\n",
    "println(\"Average Parameter Values with Non-Parameteric Confidence Interval\")\n",
    "for k = 1:numParam\n",
    "    println(paramList[k], \": \", avgParamMEFACALC[k], \" (\", nquantile(paramMEFACALC[:,k], 39)[2],\", \", nquantile(paramMEFACALC[:,k], 39)[end],\")\")\n",
    "end"
   ]
  },
  {
   "cell_type": "code",
   "execution_count": 40,
   "metadata": {},
   "outputs": [],
   "source": [
    "minMEFANALC = [1.0068509011717336e-9 3.5152961298882895e-10 1.999611193311638e-11; 4.828043016067894e-8 1.12546575583534e-10 7.887637640045232e-9; 0.6510278869702313 4.914660576464004e-12 0]; "
   ]
  },
  {
   "cell_type": "code",
   "execution_count": 41,
   "metadata": {},
   "outputs": [],
   "source": [
    "maxMEFANALC = [4.999999999450059 4.99995848314177 1.819671879965183; 4.999999999966966 0.4096402562321038 4.980134942104421; 4.0565988539627895 3.6299644497140076 0]; "
   ]
  },
  {
   "cell_type": "code",
   "execution_count": 5,
   "metadata": {},
   "outputs": [
    {
     "data": {
      "text/plain": [
       "4.999999999450059"
      ]
     },
     "execution_count": 5,
     "metadata": {},
     "output_type": "execute_result"
    }
   ],
   "source": [
    "using StatsBase\n",
    "a = summarystats(paramMEFACALC[:,4])\n",
    "a.max"
   ]
  },
  {
   "cell_type": "code",
   "execution_count": 6,
   "metadata": {},
   "outputs": [],
   "source": [
    "paramIRRASRLC = readdlm(\"IRR-ASR-LC-Params-R9noa33_20180309.txt\");"
   ]
  },
  {
   "cell_type": "code",
   "execution_count": 7,
   "metadata": {},
   "outputs": [],
   "source": [
    "errsIRRASRLC = readdlm(\"IRR-ASR-LC-Errs-R9noa33_20180309.txt\");"
   ]
  },
  {
   "cell_type": "code",
   "execution_count": 8,
   "metadata": {},
   "outputs": [
    {
     "name": "stdout",
     "output_type": "stream",
     "text": [
      "IRR-ASR-LC Model (from Model R9, no a33) - Statistics on Parameters \n",
      "Average error of these parameters: 0.032925065882499174\n",
      "Standard deviation of these parameters: 0.00798848176612186   \n",
      " with confidence interval of: (0.017267641620900328, 0.04858249014409802)\n",
      "\n",
      "Average Parameter Values with Parameteric Confidence Interval\n",
      "bIRR: 0.10676082145269071 (0.034718860586794284, 0.17880278231858715)\n",
      "bASR: 0.04478562743393989 (-0.0917102010942691, 0.1812814559621489)\n",
      "a11: 3.193819598535386 (-1.3177524805895056, 7.705391677660278)\n",
      "a12: 7.138412506411189 (3.6500158112472993, 10.626809201575078)\n",
      "a13: 0.11395454765111433 (-0.7758717581964745, 1.0037808534987032)\n",
      "a21: 1.9268896129015243 (-2.158526459872527, 6.012305685675575)\n",
      "a22: 1.6474849368449218 (-3.9630460368348635, 7.2580159105247075)\n",
      "a23: 0.037067239681968546 (-0.3052536426168922, 0.37938812198082933)\n",
      "a31: 4.568313216704739 (0.9163011011832514, 8.220325332226228)\n",
      "a32: 1.073923196159129 (-0.7229230929877366, 2.8707694853059946)\n",
      "\n",
      "Median Parameter Values with Non-Parameteric Confidence Interval\n",
      "bIRR: 0.09588139776692056 (0.05201996298424003, 0.21837367922638554)\n",
      "bASR: 0.0014280805167718035 (2.4310793215655545e-13, 0.2502369654938269)\n",
      "a11: 3.180010959331374 (0.010810397624714974, 9.999986215354847)\n",
      "a12: 7.466576337527804 (4.291742950571489, 9.999986996703544)\n",
      "a13: 3.154825308979793e-6 (9.588761809332724e-20, 3.17886969173174)\n",
      "a21: 1.7998921253339002 (2.354139866172448e-14, 9.981321139539002)\n",
      "a22: 1.9834816457392275e-5 (4.947545858353732e-13, 9.999999999997238)\n",
      "a23: 8.79579870158674e-8 (1.576141255438686e-14, 1.5444495482583762)\n",
      "a31: 5.314753865188125 (0.024279814184962067, 9.997664313890587)\n",
      "a32: 0.7220297136576483 (0.4108745427965339, 4.306869961343997)\n",
      "\n",
      "Average Parameter Values with Non-Parameteric Confidence Interval\n",
      "bIRR: 0.10676082145269071 (0.05201996298424003, 0.21837367922638554)\n",
      "bASR: 0.04478562743393989 (2.4310793215655545e-13, 0.2502369654938269)\n",
      "a11: 3.193819598535386 (0.010810397624714974, 9.999986215354847)\n",
      "a12: 7.138412506411189 (4.291742950571489, 9.999986996703544)\n",
      "a13: 0.11395454765111433 (9.588761809332724e-20, 3.17886969173174)\n",
      "a21: 1.9268896129015243 (2.354139866172448e-14, 9.981321139539002)\n",
      "a22: 1.6474849368449218 (4.947545858353732e-13, 9.999999999997238)\n",
      "a23: 0.037067239681968546 (1.576141255438686e-14, 1.5444495482583762)\n",
      "a31: 4.568313216704739 (0.024279814184962067, 9.997664313890587)\n",
      "a32: 1.073923196159129 (0.4108745427965339, 4.306869961343997)\n"
     ]
    }
   ],
   "source": [
    "numParam = size(paramIRRASRLC)[2]\n",
    "paramList = [\"bIRR\", \"bASR\", \"a11\", \"a12\", \"a13\", \"a21\", \"a22\", \"a23\", \"a31\", \"a32\"]\n",
    "\n",
    "avgParamIRRASRLC = zeros(numParam)\n",
    "medianParamIRRASRLC = zeros(numParam)\n",
    "stdParamIRRASRLC = zeros(numParam)\n",
    "\n",
    "for j = 1:numParam\n",
    "    avgParamIRRASRLC[j]=mean(paramIRRASRLC[:,j])\n",
    "    medianParamIRRASRLC[j]=median(paramIRRASRLC[:,j])\n",
    "    stdParamIRRASRLC[j]=std(paramIRRASRLC[:,j])\n",
    "end\n",
    "\n",
    "println(\"IRR-ASR-LC Model (from Model R9, no a33) - Statistics on Parameters \")\n",
    "println(\"Average error of these parameters: \", mean(errsIRRASRLC))\n",
    "println(\"Standard deviation of these parameters: \", std(errsIRRASRLC), \"   \\n with confidence interval of: (\", mean(errsIRRASRLC)-1.96*std(errsIRRASRLC),\", \", mean(errsIRRASRLC)+1.96*std(errsIRRASRLC),\")\")\n",
    "println(\"\")\n",
    "println(\"Average Parameter Values with Parameteric Confidence Interval\")\n",
    "for m = 1:numParam\n",
    "    println(paramList[m], \": \", avgParamIRRASRLC[m], \" (\", avgParamIRRASRLC[m]-1.96*stdParamIRRASRLC[m],\", \", avgParamIRRASRLC[m]+1.96*stdParamIRRASRLC[m],\")\")\n",
    "end\n",
    "println(\"\")\n",
    "println(\"Median Parameter Values with Non-Parameteric Confidence Interval\")\n",
    "for k = 1:numParam\n",
    "    println(paramList[k], \": \", medianParamIRRASRLC[k], \" (\", nquantile(paramIRRASRLC[:,k], 39)[2],\", \", nquantile(paramIRRASRLC[:,k], 39)[end],\")\")\n",
    "end\n",
    "println(\"\")\n",
    "println(\"Average Parameter Values with Non-Parameteric Confidence Interval\")\n",
    "for k = 1:numParam\n",
    "    println(paramList[k], \": \", avgParamIRRASRLC[k], \" (\", nquantile(paramIRRASRLC[:,k], 39)[2],\", \", nquantile(paramIRRASRLC[:,k], 39)[end],\")\")\n",
    "end"
   ]
  },
  {
   "cell_type": "code",
   "execution_count": 38,
   "metadata": {},
   "outputs": [],
   "source": [
    "minIRRASRLC = [0.010810397624714974 4.291742950571489 9.588761809332724e-20; 2.354139866172448e-14 4.947545858353732e-13 1.576141255438686e-14; 1.576141255438686e-14 0.024279814184962067 0];"
   ]
  },
  {
   "cell_type": "code",
   "execution_count": 39,
   "metadata": {},
   "outputs": [],
   "source": [
    "maxIRRASRLC = [9.999986215354847 9.999986996703544 3.17886969173174; 9.981321139539002 9.999999999997238 1.5444495482583762; 9.997664313890587 4.306869961343997 0];"
   ]
  },
  {
   "cell_type": "code",
   "execution_count": 9,
   "metadata": {},
   "outputs": [],
   "source": [
    "paramMEFASRLC = readdlm(\"MEF-ASR-LC-Params-R8_20180310.txt\");"
   ]
  },
  {
   "cell_type": "code",
   "execution_count": 10,
   "metadata": {},
   "outputs": [],
   "source": [
    "errsMEFASRLC = readdlm(\"MEF-ASR-LC-Errs-R8_20180310.txt\");"
   ]
  },
  {
   "cell_type": "code",
   "execution_count": 11,
   "metadata": {},
   "outputs": [
    {
     "name": "stdout",
     "output_type": "stream",
     "text": [
      "MEF-ASR-LC Model (from Model R8) - Statistics on Parameters \n",
      "Average error of these parameters: 0.0350223841880586\n",
      "Standard deviation of these parameters: 0.005890091512009481   \n",
      " with confidence interval of: (0.02347780482452002, 0.04656696355159718)\n",
      "\n",
      "Average Parameter Values with Parameteric Confidence Interval\n",
      "a12: 2.8011917398298967 (1.8867481202792342, 3.715635359380559)\n",
      "\n",
      "Median Parameter Values with Non-Parameteric Confidence Interval\n",
      "a12: 2.623998109957167 (1.8509717491995776, 3.5645263569407577)\n",
      "\n",
      "Average Parameter Values with Non-Parameteric Confidence Interval\n",
      "a12: 2.8011917398298967 (1.8509717491995776, 3.5645263569407577)\n"
     ]
    }
   ],
   "source": [
    "numParam = size(paramMEFASRLC)[2]\n",
    "paramList = [\"a12\"]\n",
    "\n",
    "avgParamMEFASRLC = zeros(numParam)\n",
    "medianParamMEFASRLC = zeros(numParam)\n",
    "stdParamMEFASRLC = zeros(numParam)\n",
    "\n",
    "for j = 1:numParam\n",
    "    avgParamMEFASRLC[j]=mean(paramMEFASRLC[:,j])\n",
    "    medianParamMEFASRLC[j]=median(paramMEFASRLC[:,j])\n",
    "    stdParamMEFASRLC[j]=std(paramMEFASRLC[:,j])\n",
    "end\n",
    "\n",
    "println(\"MEF-ASR-LC Model (from Model R8) - Statistics on Parameters \")\n",
    "println(\"Average error of these parameters: \", mean(errsMEFASRLC))\n",
    "println(\"Standard deviation of these parameters: \", std(errsMEFASRLC), \"   \\n with confidence interval of: (\", mean(errsMEFASRLC)-1.96*std(errsMEFASRLC),\", \", mean(errsMEFASRLC)+1.96*std(errsMEFASRLC),\")\")\n",
    "println(\"\")\n",
    "println(\"Average Parameter Values with Parameteric Confidence Interval\")\n",
    "for m = 1:numParam\n",
    "    println(paramList[m], \": \", avgParamMEFASRLC[m], \" (\", avgParamMEFASRLC[m]-1.96*stdParamMEFASRLC[m],\", \", avgParamMEFASRLC[m]+1.96*stdParamMEFASRLC[m],\")\")\n",
    "end\n",
    "println(\"\")\n",
    "println(\"Median Parameter Values with Non-Parameteric Confidence Interval\")\n",
    "for k = 1:numParam\n",
    "    println(paramList[k], \": \", medianParamMEFASRLC[k], \" (\", nquantile(paramMEFASRLC[:,k], 39)[2],\", \", nquantile(paramMEFASRLC[:,k], 39)[end],\")\")\n",
    "end\n",
    "println(\"\")\n",
    "println(\"Average Parameter Values with Non-Parameteric Confidence Interval\")\n",
    "for k = 1:numParam\n",
    "    println(paramList[k], \": \", avgParamMEFASRLC[k], \" (\", nquantile(paramMEFASRLC[:,k], 39)[2],\", \", nquantile(paramMEFASRLC[:,k], 39)[end],\")\")\n",
    "end"
   ]
  },
  {
   "cell_type": "code",
   "execution_count": 42,
   "metadata": {},
   "outputs": [],
   "source": [
    "minMEFASRLC = [1.007e-9 1.8509717491995776 2.00e-11; 0 4.95e-13 1.576e-14; 0.651 0.411 0];"
   ]
  },
  {
   "cell_type": "code",
   "execution_count": 43,
   "metadata": {},
   "outputs": [],
   "source": [
    "maxMEFASRLC = [5.00 3.5645263569407577 1.820; 0 10.00 1.544; 4.98 4.31 0];"
   ]
  },
  {
   "cell_type": "code",
   "execution_count": 12,
   "metadata": {},
   "outputs": [],
   "source": [
    "paramIRRANALC = readdlm(\"IRR-ANA-LC-Params-R10_20180310.txt\");"
   ]
  },
  {
   "cell_type": "code",
   "execution_count": 13,
   "metadata": {},
   "outputs": [],
   "source": [
    "errsIRRANALC = readdlm(\"IRR-ANA-LC-Errs-R10_20180310.txt\");"
   ]
  },
  {
   "cell_type": "code",
   "execution_count": 14,
   "metadata": {},
   "outputs": [
    {
     "name": "stdout",
     "output_type": "stream",
     "text": [
      "IRR-ANA-LC Model (from Model R10) - Statistics on Parameters \n",
      "Average error of these parameters: 0.06552196928816882\n",
      "Standard deviation of these parameters: 0.00590920979872526   \n",
      " with confidence interval of: (0.053939918082667314, 0.07710402049367034)\n",
      "\n",
      "Average Parameter Values with Parameteric Confidence Interval\n",
      "a21: 0.9138405881036392 (0.7436676477947116, 1.084013528412567)\n",
      "\n",
      "Median Parameter Values with Non-Parameteric Confidence Interval\n",
      "a21: 0.9254077925321742 (0.8164328196374602, 1.1338248076213036)\n",
      "\n",
      "Average Parameter Values with Non-Parameteric Confidence Interval\n",
      "a21: 0.9138405881036392 (0.8164328196374602, 1.1338248076213036)\n"
     ]
    }
   ],
   "source": [
    "numParam = size(paramIRRANALC)[2]\n",
    "paramList = [\"a21\"]\n",
    "\n",
    "avgParamIRRANALC = zeros(numParam)\n",
    "medianParamIRRANALC = zeros(numParam)\n",
    "stdParamIRRANALC = zeros(numParam)\n",
    "\n",
    "for j = 1:numParam\n",
    "    avgParamIRRANALC[j]=mean(paramIRRANALC[:,j])\n",
    "    medianParamIRRANALC[j]=median(paramIRRANALC[:,j])\n",
    "    stdParamIRRANALC[j]=std(paramIRRANALC[:,j])\n",
    "end\n",
    "\n",
    "println(\"IRR-ANA-LC Model (from Model R10) - Statistics on Parameters \")\n",
    "println(\"Average error of these parameters: \", mean(errsIRRANALC))\n",
    "println(\"Standard deviation of these parameters: \", std(errsIRRANALC), \"   \\n with confidence interval of: (\", mean(errsIRRANALC)-1.96*std(errsIRRANALC),\", \", mean(errsIRRANALC)+1.96*std(errsIRRANALC),\")\")\n",
    "println(\"\")\n",
    "println(\"Average Parameter Values with Parameteric Confidence Interval\")\n",
    "for m = 1:numParam\n",
    "    println(paramList[m], \": \", avgParamIRRANALC[m], \" (\", avgParamIRRANALC[m]-1.96*stdParamIRRANALC[m],\", \", avgParamIRRANALC[m]+1.96*stdParamIRRANALC[m],\")\")\n",
    "end\n",
    "println(\"\")\n",
    "println(\"Median Parameter Values with Non-Parameteric Confidence Interval\")\n",
    "for k = 1:numParam\n",
    "    println(paramList[k], \": \", medianParamIRRANALC[k], \" (\", nquantile(paramIRRANALC[:,k], 39)[2],\", \", nquantile(paramIRRANALC[:,k], 39)[end],\")\")\n",
    "end\n",
    "println(\"\")\n",
    "println(\"Average Parameter Values with Non-Parameteric Confidence Interval\")\n",
    "for k = 1:numParam\n",
    "    println(paramList[k], \": \", avgParamIRRANALC[k], \" (\", nquantile(paramIRRANALC[:,k], 39)[2],\", \", nquantile(paramIRRANALC[:,k], 39)[end],\")\")\n",
    "end"
   ]
  },
  {
   "cell_type": "code",
   "execution_count": 44,
   "metadata": {},
   "outputs": [],
   "source": [
    "minIRRANALC = [0.01081 0 9.59e-20; 0.8164328196374602 1.125e-10 7.89e-9; 0.0243 4.91e-12 0];"
   ]
  },
  {
   "cell_type": "code",
   "execution_count": 45,
   "metadata": {},
   "outputs": [],
   "source": [
    "maxIRRANALC = [10.00 0 3.18; 1.134 0.410 4.98; 10.00 3.63 0];"
   ]
  },
  {
   "cell_type": "code",
   "execution_count": 15,
   "metadata": {},
   "outputs": [
    {
     "data": {
      "text/plain": [
       "3×3 Array{Float64,2}:\n",
       " 4.37321  0.246363    0.39866 \n",
       " 1.44403  0.00734425  0.161261\n",
       " 2.64179  0.0963911   0.0     "
      ]
     },
     "execution_count": 15,
     "metadata": {},
     "output_type": "execute_result"
    }
   ],
   "source": [
    "matMEFANALC = [4.37321 0.246363 0.39866; 1.44403 0.00734425 0.161261; 2.64179 0.0963911 0]"
   ]
  },
  {
   "cell_type": "code",
   "execution_count": 16,
   "metadata": {},
   "outputs": [
    {
     "data": {
      "text/plain": [
       "3×3 Array{Float64,2}:\n",
       " 3.19382  7.13841  0.113955 \n",
       " 1.92689  1.64748  0.0370672\n",
       " 4.56831  1.07392  0.0      "
      ]
     },
     "execution_count": 16,
     "metadata": {},
     "output_type": "execute_result"
    }
   ],
   "source": [
    "matIRRASRLC = [3.19382 7.13841 0.113955; 1.92689 1.64748 0.0370672; 4.56831 1.07392 0]"
   ]
  },
  {
   "cell_type": "code",
   "execution_count": 17,
   "metadata": {},
   "outputs": [
    {
     "data": {
      "text/plain": [
       "3×3 Array{Float64,2}:\n",
       " 4.37321  2.80119  0.39866  \n",
       " 0.0      1.64748  0.0370672\n",
       " 2.64179  1.07392  0.0      "
      ]
     },
     "execution_count": 17,
     "metadata": {},
     "output_type": "execute_result"
    }
   ],
   "source": [
    "matMEFASRLC = [4.37321 2.80119 0.39866; 0 1.64748 0.0370672; 2.64179 1.07392 0]"
   ]
  },
  {
   "cell_type": "code",
   "execution_count": 18,
   "metadata": {},
   "outputs": [
    {
     "data": {
      "text/plain": [
       "3×3 Array{Float64,2}:\n",
       " 3.19382   0.0         0.39866 \n",
       " 0.913841  0.00734425  0.161261\n",
       " 4.56831   0.0963911   0.0     "
      ]
     },
     "execution_count": 18,
     "metadata": {},
     "output_type": "execute_result"
    }
   ],
   "source": [
    "matIRRANALC = [3.19382 0 0.39866; 0.913841 0.00734425 0.161261; 4.56831 0.0963911 0]"
   ]
  },
  {
   "cell_type": "code",
   "execution_count": 19,
   "metadata": {},
   "outputs": [
    {
     "data": {
      "text/plain": [
       "5.333312063320248"
      ]
     },
     "execution_count": 19,
     "metadata": {},
     "output_type": "execute_result"
    }
   ],
   "source": [
    "vecnorm(matMEFANALC, 2)"
   ]
  },
  {
   "cell_type": "code",
   "execution_count": 46,
   "metadata": {},
   "outputs": [
    {
     "data": {
      "text/plain": [
       "0.6510278869702332"
      ]
     },
     "execution_count": 46,
     "metadata": {},
     "output_type": "execute_result"
    }
   ],
   "source": [
    "vecnorm(minMEFANALC, 2)"
   ]
  },
  {
   "cell_type": "code",
   "execution_count": 47,
   "metadata": {},
   "outputs": [
    {
     "data": {
      "text/plain": [
       "11.528789005238263"
      ]
     },
     "execution_count": 47,
     "metadata": {},
     "output_type": "execute_result"
    }
   ],
   "source": [
    "vecnorm(maxMEFANALC, 2)"
   ]
  },
  {
   "cell_type": "code",
   "execution_count": 22,
   "metadata": {},
   "outputs": [
    {
     "data": {
      "text/plain": [
       "6.162668562726366"
      ]
     },
     "execution_count": 22,
     "metadata": {},
     "output_type": "execute_result"
    }
   ],
   "source": [
    "vecnorm(matMEFASRLC, 2)"
   ]
  },
  {
   "cell_type": "code",
   "execution_count": 48,
   "metadata": {},
   "outputs": [
    {
     "data": {
      "text/plain": [
       "2.0046990837367447"
      ]
     },
     "execution_count": 48,
     "metadata": {},
     "output_type": "execute_result"
    }
   ],
   "source": [
    "vecnorm(minMEFASRLC, 2)"
   ]
  },
  {
   "cell_type": "code",
   "execution_count": 49,
   "metadata": {},
   "outputs": [
    {
     "data": {
      "text/plain": [
       "13.666699826561105"
      ]
     },
     "execution_count": 49,
     "metadata": {},
     "output_type": "execute_result"
    }
   ],
   "source": [
    "vecnorm(maxMEFASRLC, 2)"
   ]
  },
  {
   "cell_type": "code",
   "execution_count": 25,
   "metadata": {},
   "outputs": [
    {
     "data": {
      "text/plain": [
       "5.665626877025108"
      ]
     },
     "execution_count": 25,
     "metadata": {},
     "output_type": "execute_result"
    }
   ],
   "source": [
    "vecnorm(matIRRANALC, 2)"
   ]
  },
  {
   "cell_type": "code",
   "execution_count": 50,
   "metadata": {},
   "outputs": [
    {
     "data": {
      "text/plain": [
       "0.816865897856664"
      ]
     },
     "execution_count": 50,
     "metadata": {},
     "output_type": "execute_result"
    }
   ],
   "source": [
    "vecnorm(minIRRANALC, 2)"
   ]
  },
  {
   "cell_type": "code",
   "execution_count": 51,
   "metadata": {},
   "outputs": [
    {
     "data": {
      "text/plain": [
       "15.796954010188166"
      ]
     },
     "execution_count": 51,
     "metadata": {},
     "output_type": "execute_result"
    }
   ],
   "source": [
    "vecnorm(maxIRRANALC, 2)"
   ]
  },
  {
   "cell_type": "code",
   "execution_count": 28,
   "metadata": {},
   "outputs": [
    {
     "data": {
      "text/plain": [
       "9.466868494113609"
      ]
     },
     "execution_count": 28,
     "metadata": {},
     "output_type": "execute_result"
    }
   ],
   "source": [
    "vecnorm(matIRRASRLC, 2)"
   ]
  },
  {
   "cell_type": "code",
   "execution_count": 52,
   "metadata": {},
   "outputs": [
    {
     "data": {
      "text/plain": [
       "4.291825244328307"
      ]
     },
     "execution_count": 52,
     "metadata": {},
     "output_type": "execute_result"
    }
   ],
   "source": [
    "vecnorm(minIRRASRLC, 2)"
   ]
  },
  {
   "cell_type": "code",
   "execution_count": 53,
   "metadata": {},
   "outputs": [
    {
     "data": {
      "text/plain": [
       "23.035172963391755"
      ]
     },
     "execution_count": 53,
     "metadata": {},
     "output_type": "execute_result"
    }
   ],
   "source": [
    "vecnorm(maxIRRASRLC, 2)"
   ]
  },
  {
   "cell_type": "code",
   "execution_count": null,
   "metadata": {},
   "outputs": [],
   "source": []
  }
 ],
 "metadata": {
  "kernelspec": {
   "display_name": "Julia 1.8.2",
   "language": "julia",
   "name": "julia-1.8"
  },
  "language_info": {
   "file_extension": ".jl",
   "mimetype": "application/julia",
   "name": "julia",
   "version": "1.8.2"
  }
 },
 "nbformat": 4,
 "nbformat_minor": 2
}
